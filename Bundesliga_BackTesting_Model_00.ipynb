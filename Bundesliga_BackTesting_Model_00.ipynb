{
  "nbformat": 4,
  "nbformat_minor": 0,
  "metadata": {
    "colab": {
      "provenance": []
    },
    "kernelspec": {
      "name": "python3",
      "display_name": "Python 3"
    },
    "language_info": {
      "name": "python"
    }
  },
  "cells": [
    {
      "cell_type": "markdown",
      "source": [
        "Mount Google Drive"
      ],
      "metadata": {
        "id": "62Ps3or6CPRy"
      }
    },
    {
      "cell_type": "code",
      "source": [
        "from google.colab import drive\n",
        "drive.mount('/content/drive', force_remount=True)"
      ],
      "metadata": {
        "colab": {
          "base_uri": "https://localhost:8080/"
        },
        "id": "utmJeSw8CSO6",
        "outputId": "477f424d-78aa-4316-8bcd-e1dd2da99e5e"
      },
      "execution_count": null,
      "outputs": [
        {
          "output_type": "stream",
          "name": "stdout",
          "text": [
            "Mounted at /content/drive\n"
          ]
        }
      ]
    },
    {
      "cell_type": "markdown",
      "source": [
        "Packages"
      ],
      "metadata": {
        "id": "cG_LpEfUrDVS"
      }
    },
    {
      "cell_type": "code",
      "source": [
        "import os\n",
        "import pandas as pd\n",
        "import numpy as np\n",
        "import joblib\n",
        "import math\n",
        "import decimal"
      ],
      "metadata": {
        "id": "710dn3c9rGv-"
      },
      "execution_count": null,
      "outputs": []
    },
    {
      "cell_type": "markdown",
      "source": [
        "invocar generico"
      ],
      "metadata": {
        "id": "-exVLf27rLq6"
      }
    },
    {
      "cell_type": "code",
      "execution_count": null,
      "metadata": {
        "id": "N5kxJygbKbxa",
        "colab": {
          "base_uri": "https://localhost:8080/"
        },
        "outputId": "292187ce-f12f-4197-e37a-fe0535da483a"
      },
      "outputs": [
        {
          "output_type": "stream",
          "name": "stdout",
          "text": [
            "total_funds_previousweek = 50.0\n",
            "bet_size = 2.5\n",
            "total win provisory = -25.0\n",
            "total fundos provisory = 25.0\n",
            "jornada = 2\n",
            "total_funds_previousweek = 25.0\n",
            "bet_size = 1.0\n",
            "total win provisory = 2.3\n",
            "total fundos provisory = 27.3\n",
            "jornada = 3\n",
            "total_funds_previousweek = 27.3\n",
            "bet_size = 1.0\n",
            "total win provisory = -3.05\n",
            "total fundos provisory = 24.25\n",
            "jornada = 4\n",
            "total_funds_previousweek = 24.25\n",
            "bet_size = 1.0\n",
            "total win provisory = 6.72\n",
            "total fundos provisory = 30.97\n",
            "jornada = 5\n",
            "total_funds_previousweek = 30.97\n",
            "bet_size = 1.5\n",
            "total win provisory = -0.4\n",
            "total fundos provisory = 30.56\n",
            "jornada = 6\n",
            "total_funds_previousweek = 30.57\n",
            "bet_size = 1.5\n",
            "total win provisory = -1.55\n",
            "total fundos provisory = 29.02\n",
            "jornada = 7\n",
            "total_funds_previousweek = 29.03\n",
            "bet_size = 1.0\n",
            "total win provisory = -1.68\n",
            "total fundos provisory = 27.35\n",
            "jornada = 8\n",
            "total_funds_previousweek = 27.35\n",
            "bet_size = 1.0\n",
            "total win provisory = -0.3\n",
            "total fundos provisory = 27.05\n",
            "jornada = 9\n",
            "total_funds_previousweek = 50.0\n",
            "bet_size = 2.5\n",
            "total win provisory = -10.75\n",
            "total fundos provisory = 39.25\n",
            "jornada = 10\n",
            "total_funds_previousweek = 39.24\n",
            "bet_size = 1.5\n",
            "total win provisory = -9.52\n",
            "total fundos provisory = 29.72\n",
            "jornada = 11\n",
            "total_funds_previousweek = 29.72\n",
            "bet_size = 1.0\n",
            "total win provisory = -5.88\n",
            "total fundos provisory = 23.84\n",
            "jornada = 12\n",
            "total_funds_previousweek = 23.84\n",
            "bet_size = 1.0\n",
            "total win provisory = -3.85\n",
            "total fundos provisory = 19.99\n",
            "jornada = 13\n",
            "total_funds_previousweek = 19.99\n",
            "bet_size = 0.5\n",
            "total win provisory = 0.96\n",
            "total fundos provisory = 20.96\n",
            "jornada = 14\n",
            "total_funds_previousweek = 20.95\n",
            "bet_size = 1.0\n",
            "total win provisory = -0.48\n",
            "total fundos provisory = 20.47\n",
            "jornada = 15\n",
            "total_funds_previousweek = 20.47\n",
            "bet_size = 1.0\n",
            "total win provisory = -1.52\n",
            "total fundos provisory = 18.95\n",
            "jornada = 16\n",
            "total_funds_previousweek = 18.95\n",
            "bet_size = 0.5\n",
            "total win provisory = -0.9\n",
            "total fundos provisory = 18.05\n",
            "jornada = 17\n",
            "total_funds_previousweek = 18.04\n",
            "bet_size = 0.5\n",
            "total win provisory = -1.08\n",
            "total fundos provisory = 16.96\n",
            "jornada = 18\n",
            "total_funds_previousweek = 16.97\n",
            "bet_size = 0.5\n",
            "total win provisory = -1.24\n",
            "total fundos provisory = 15.74\n",
            "jornada = 19\n",
            "total_funds_previousweek = 15.72\n",
            "bet_size = 0.5\n",
            "total win provisory = -2.62\n",
            "total fundos provisory = 13.1\n",
            "jornada = 20\n"
          ]
        }
      ],
      "source": [
        "param_league = 'Premiere_League'\n",
        "param_league_short = 'epl'\n",
        "param_season = '_2023_24'\n",
        "param_final_flag = True\n",
        "param_odd_bet_limit = 1.2\n",
        "param_number_matches_week = 10\n",
        "param_reset_gameweek = 10\n",
        "\n",
        "raw_path = '/content/drive/MyDrive/Data_Football/{0}/Raw/{0}{1}.csv'.format(param_league,param_season)\n",
        "df_raw_test =pd.read_csv(raw_path)\n",
        "number_matches = df_raw_test[df_raw_test.columns[0]].count()\n",
        "numero_jornadas = math.ceil(number_matches/10)\n",
        "\n",
        "itera_jornada = 0\n",
        "while itera_jornada <= numero_jornadas:\n",
        "  %run '/content/drive/MyDrive/Colab Notebooks/Model_00_ETL_PREDICT_Generico.ipynb'\n",
        "  print ('jornada = ' + str(jornada) )\n",
        "  itera_jornada = jornada + 1\n",
        "\n",
        "\n"
      ]
    },
    {
      "cell_type": "code",
      "source": [],
      "metadata": {
        "id": "vW3ROLSpoVil"
      },
      "execution_count": null,
      "outputs": []
    }
  ]
}